{
 "cells": [
  {
   "cell_type": "code",
   "execution_count": null,
   "id": "7037f111-e8eb-4270-8e69-b013d075b751",
   "metadata": {
    "tags": []
   },
   "outputs": [],
   "source": [
    "from model import GLiNER"
   ]
  },
  {
   "cell_type": "code",
   "execution_count": 2,
   "id": "2c86b85f-ab71-4918-95c5-909a79ba7158",
   "metadata": {},
   "outputs": [
    {
     "name": "stderr",
     "output_type": "stream",
     "text": [
      "/Users/urchadezaratiana/.local/lib/python3.8/site-packages/transformers/convert_slow_tokenizer.py:550: UserWarning: The sentencepiece tokenizer that you are converting to a fast tokenizer uses the byte fallback option which is not implemented in the fast tokenizers. In practice this means that the fast version of the tokenizer can produce unknown tokens whereas the sentencepiece version would have converted these unknown tokens into a sequence of byte tokens matching the original piece of text.\n",
      "  warnings.warn(\n"
     ]
    },
    {
     "name": "stdout",
     "output_type": "stream",
     "text": [
      "ok\n"
     ]
    }
   ],
   "source": [
    "# available models: https://huggingface.co/urchade\n",
    "\n",
    "model = GLiNER.from_pretrained(\"urchade/gliner_medium\")\n",
    "model.eval()\n",
    "print(\"ok\")"
   ]
  },
  {
   "cell_type": "code",
   "execution_count": 3,
   "id": "f823dbf3-2462-4a67-8c4b-9a45ec580c1d",
   "metadata": {
    "tags": []
   },
   "outputs": [
    {
     "name": "stdout",
     "output_type": "stream",
     "text": [
      "Marius Petipa => actor\n",
      "1822 => date\n",
      "Trilby => character\n",
      "Charles Nodier => person\n",
      "Moscow => location\n",
      "January 25/February 6 => date\n",
      "Julian/Gregorian => date\n",
      "1870 => date\n",
      "Moscow => location\n",
      "Polina Karpakova => actor\n",
      "Trilby => character\n",
      "Ludiia Geiten => actor\n",
      "Miranda => character\n",
      "Imperial Bolshoi Kamenny Theatre => location\n",
      "January 17–29, 1871 => date\n",
      "St. Petersburg => location\n",
      "Adèle Grantzow => actor\n",
      "Trilby => character\n",
      "Lev Ivanov => actor\n",
      "Count Leopold => character\n"
     ]
    }
   ],
   "source": [
    "text = \"\"\"\n",
    "Libretto by Marius Petipa, based on the 1822 novella ``Trilby, ou Le Lutin d'Argail`` by Charles Nodier, first presented by the Ballet of the Moscow Imperial Bolshoi Theatre on January 25/February 6 (Julian/Gregorian calendar dates), 1870, in Moscow with Polina Karpakova as Trilby and Ludiia Geiten as Miranda and restaged by Petipa for the Imperial Ballet at the Imperial Bolshoi Kamenny Theatre on January 17–29, 1871 in St. Petersburg with Adèle Grantzow as Trilby and Lev Ivanov as Count Leopold.\n",
    "\"\"\"\n",
    "\n",
    "labels = [\"person\", \"book\", \"location\", \"date\", \"actor\", \"character\"]\n",
    "\n",
    "entities = model.predict_entities(text, labels, threshold=0.4)\n",
    "\n",
    "for entity in entities:\n",
    "    print(entity[\"text\"], \"=>\", entity[\"label\"])"
   ]
  },
  {
   "cell_type": "code",
   "execution_count": null,
   "id": "5f5d1377-f073-485f-bd4f-35b5750ba020",
   "metadata": {},
   "outputs": [],
   "source": []
  }
 ],
 "metadata": {
  "kernelspec": {
   "display_name": "Python 3 (ipykernel)",
   "language": "python",
   "name": "python3"
  },
  "language_info": {
   "codemirror_mode": {
    "name": "ipython",
    "version": 3
   },
   "file_extension": ".py",
   "mimetype": "text/x-python",
   "name": "python",
   "nbconvert_exporter": "python",
   "pygments_lexer": "ipython3",
   "version": "3.8.18"
  }
 },
 "nbformat": 4,
 "nbformat_minor": 5
}
