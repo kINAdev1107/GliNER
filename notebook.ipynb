{
 "cells": [
  {
   "cell_type": "code",
   "execution_count": null,
   "id": "7037f111-e8eb-4270-8e69-b013d075b751",
   "metadata": {
    "tags": []
   },
   "outputs": [],
   "source": [
    "import flair, torch, re\n",
    "from save_load import load_model"
   ]
  },
  {
   "cell_type": "code",
   "execution_count": null,
   "id": "9fd0ae73-34a7-47f2-bb2c-4dc9d0d41876",
   "metadata": {
    "tags": []
   },
   "outputs": [],
   "source": [
    "flair.device = torch.device('cuda:0') if torch.cuda.is_available() else torch.device('cpu')"
   ]
  },
  {
   "cell_type": "code",
   "execution_count": null,
   "id": "f823dbf3-2462-4a67-8c4b-9a45ec580c1d",
   "metadata": {
    "tags": []
   },
   "outputs": [],
   "source": [
    "model = load_model(\"model_30000\", device=flair.device)\n",
    "model = model.eval()"
   ]
  },
  {
   "cell_type": "code",
   "execution_count": null,
   "id": "ed91d005-4bcd-4638-bc4c-7a16c3c2e5b5",
   "metadata": {
    "tags": []
   },
   "outputs": [],
   "source": [
    "def tokenize_text(text):\n",
    "    return re.findall(r'\\w+(?:[-_]\\w+)*|\\S', text)"
   ]
  },
  {
   "cell_type": "code",
   "execution_count": null,
   "id": "e8c438b0-bea0-41e5-9c28-caedaffa628a",
   "metadata": {
    "tags": []
   },
   "outputs": [],
   "source": [
    "tokens = tokenize_text(\"\"\"\n",
    "Sandro and Maje will open six new stores in North America by the end of the year, \n",
    "despite the slowdown in growth in 2023. The pandemic has expanded the economic \n",
    "space of access luxury, and opened up new geographic markets in the USA.\n",
    "\"\"\".replace(\"\\n\", \"\"))\n",
    "\n",
    "input_x = {\"tokenized_text\": tokens, \"ner\": None}\n",
    "\n",
    "labels = [\"person\", \"date\", \"somewhere\", \"event\"] # entity types\n",
    "\n",
    "x = model.collate_fn([input_x], labels) # process input and labels"
   ]
  },
  {
   "cell_type": "code",
   "execution_count": null,
   "id": "475e9b67-6b86-4bc7-9311-919aedc6b813",
   "metadata": {
    "tags": []
   },
   "outputs": [],
   "source": [
    "output = model.predict(x, flat_ner=False, threshold=0.5)"
   ]
  },
  {
   "cell_type": "code",
   "execution_count": 118,
   "id": "7c386895-5141-4d94-9eae-e947f2229a2a",
   "metadata": {
    "tags": []
   },
   "outputs": [
    {
     "name": "stdout",
     "output_type": "stream",
     "text": [
      "Sandro  =>  person\n",
      "Maje  =>  person\n",
      "North America  =>  somewhere\n",
      "2023  =>  date\n",
      "pandemic  =>  event\n",
      "USA  =>  somewhere\n"
     ]
    }
   ],
   "source": [
    "for y in output[0]:\n",
    "    start, end, ent_type = y # predicted span\n",
    "    print(\" \".join(tokens[start:end+1]), \" => \", ent_type)"
   ]
  },
  {
   "cell_type": "code",
   "execution_count": null,
   "id": "ded8fa47-5504-4649-94eb-54cd71cecf3e",
   "metadata": {},
   "outputs": [],
   "source": []
  }
 ],
 "metadata": {
  "kernelspec": {
   "display_name": "python-3.9.12",
   "language": "python",
   "name": "module-conda-env-python-3.9.12"
  },
  "language_info": {
   "codemirror_mode": {
    "name": "ipython",
    "version": 3
   },
   "file_extension": ".py",
   "mimetype": "text/x-python",
   "name": "python",
   "nbconvert_exporter": "python",
   "pygments_lexer": "ipython3",
   "version": "3.9.12"
  }
 },
 "nbformat": 4,
 "nbformat_minor": 5
}
